{
  "nbformat": 4,
  "nbformat_minor": 0,
  "metadata": {
    "colab": {
      "provenance": [],
      "gpuType": "T4",
      "authorship_tag": "ABX9TyNucB4TORRFCnUYvEOXlmNy",
      "include_colab_link": true
    },
    "kernelspec": {
      "name": "python3",
      "display_name": "Python 3"
    },
    "language_info": {
      "name": "python"
    },
    "accelerator": "GPU"
  },
  "cells": [
    {
      "cell_type": "markdown",
      "metadata": {
        "id": "view-in-github",
        "colab_type": "text"
      },
      "source": [
        "<a href=\"https://colab.research.google.com/github/bhussn/SecSplitLLM/blob/main/SecSplitLLM/notebooks/bert/Benchmark_Bert_SST_2.ipynb\" target=\"_parent\"><img src=\"https://colab.research.google.com/assets/colab-badge.svg\" alt=\"Open In Colab\"/></a>"
      ]
    },
    {
      "cell_type": "code",
      "source": [
        "# Install dependencies\n",
        "!pip install -q transformers datasets evaluate wandb\n",
        "!pip install -U datasets"
      ],
      "metadata": {
        "id": "53iewiyFcAcr"
      },
      "execution_count": null,
      "outputs": []
    },
    {
      "cell_type": "code",
      "source": [
        "# Imports and W&B login\n",
        "import os\n",
        "import time\n",
        "import wandb\n",
        "import torch\n",
        "import numpy as np\n",
        "from datasets import load_dataset\n",
        "from transformers import (\n",
        "    BertTokenizerFast,\n",
        "    BertForSequenceClassification,\n",
        "    Trainer,\n",
        "    TrainingArguments,\n",
        "    TrainerCallback\n",
        ")\n",
        "import evaluate\n",
        "\n",
        "# Login to W&B\n",
        "wandb.login()"
      ],
      "metadata": {
        "id": "b44KD9QLcCK4"
      },
      "execution_count": null,
      "outputs": []
    },
    {
      "cell_type": "code",
      "source": [
        "#  Load SST-2 Dataset\n",
        "dataset = load_dataset(\"glue\", \"sst2\")\n",
        "\n",
        "# Use a subset of the dataset (did 10%)\n",
        "dataset[\"train\"] = dataset[\"train\"].shuffle(seed=42).select(range(int(0.1 * len(dataset[\"train\"]))))\n",
        "dataset[\"validation\"] = dataset[\"validation\"].shuffle(seed=42).select(range(int(0.1 * len(dataset[\"validation\"]))))\n",
        "\n",
        "# Tokenizer and Preprocessing\n",
        "tokenizer = BertTokenizerFast.from_pretrained(\"bert-base-uncased\")\n",
        "\n",
        "def tokenize_function(examples):\n",
        "    return tokenizer(examples[\"sentence\"], padding=\"max_length\", truncation=True)\n",
        "\n",
        "tokenized_dataset = dataset.map(tokenize_function, batched=True)\n",
        "\n",
        "# Load Pretrained BERT for Sequence Classification\n",
        "model = BertForSequenceClassification.from_pretrained(\"bert-base-uncased\", num_labels=2)"
      ],
      "metadata": {
        "id": "VXMeKRvGcEDR"
      },
      "execution_count": null,
      "outputs": []
    },
    {
      "cell_type": "code",
      "source": [
        "# Define Accuracy Metric\n",
        "accuracy = evaluate.load(\"accuracy\")\n",
        "\n",
        "def compute_metrics(eval_pred):\n",
        "    logits, labels = eval_pred\n",
        "    preds = np.argmax(logits, axis=-1)\n",
        "    return accuracy.compute(predictions=preds, references=labels)\n",
        "\n",
        "# TrainingArguments with W&B integration\n",
        "training_args = TrainingArguments(\n",
        "    output_dir=\"./results\",\n",
        "    num_train_epochs=1,\n",
        "    per_device_train_batch_size=8,\n",
        "    per_device_eval_batch_size=8,\n",
        "    learning_rate=2e-5,\n",
        "    warmup_steps=100,\n",
        "    weight_decay=0.01,\n",
        "    save_strategy=\"epoch\",\n",
        "    eval_strategy=\"epoch\",\n",
        "    logging_dir=\"./logs\",\n",
        "    logging_steps=10,\n",
        "    report_to=\"wandb\",\n",
        "    run_name=\"bert-sst2-finetune\"\n",
        ")"
      ],
      "metadata": {
        "id": "XID_YMgFcIWj"
      },
      "execution_count": null,
      "outputs": []
    },
    {
      "cell_type": "code",
      "source": [
        "# Track Timer per epoch\n",
        "class SimpleTimerCallback(TrainerCallback):\n",
        "    def __init__(self):\n",
        "        self.epoch_start_time = None\n",
        "\n",
        "    def on_epoch_begin(self, args, state, control, **kwargs):\n",
        "        self.epoch_start_time = time.time()\n",
        "\n",
        "    def on_epoch_end(self, args, state, control, **kwargs):\n",
        "        epoch_duration = time.time() - self.epoch_start_time\n",
        "        print(f\"Epoch {int(state.epoch)} duration: {epoch_duration:.2f} seconds\")\n",
        "        wandb.log({f\"epoch_{int(state.epoch)}_duration_sec\": epoch_duration})"
      ],
      "metadata": {
        "id": "7rN7D23SsEJC"
      },
      "execution_count": null,
      "outputs": []
    },
    {
      "cell_type": "code",
      "source": [
        "# Track Training Time\n",
        "start_time = time.time()\n",
        "\n",
        "# Trainer Setup\n",
        "trainer = Trainer(\n",
        "    model=model,\n",
        "    args=training_args,\n",
        "    train_dataset=tokenized_dataset[\"train\"],\n",
        "    eval_dataset=tokenized_dataset[\"validation\"],\n",
        "    compute_metrics=compute_metrics,\n",
        "    callbacks=[SimpleTimerCallback()]\n",
        ")\n",
        "\n",
        "# Start Training\n",
        "trainer.train()\n",
        "\n",
        "# Evaluate (seperate)\n",
        "results = trainer.evaluate()\n",
        "print(f\"Validation Results: {results}\")\n",
        "\n",
        "# Log training time and GPU usage\n",
        "end_time = time.time()\n",
        "train_time = end_time - start_time\n",
        "print(f\"\\n Training Time (seconds): {train_time}\")\n",
        "\n",
        "# Show GPU memory usage\n",
        "print(\"\\n GPU Memory Usage:\")\n",
        "!nvidia-smi\n",
        "\n",
        "# Log to W&B\n",
        "wandb.log({\"train_time_seconds\": train_time})\n",
        "wandb.log(results)\n",
        "\n",
        "# Save model\n",
        "model.save_pretrained(\"bert-finetuned-sst2\")\n",
        "tokenizer.save_pretrained(\"bert-finetuned-sst2\")\n"
      ],
      "metadata": {
        "id": "pq7ThPMCcKzM"
      },
      "execution_count": null,
      "outputs": []
    }
  ]
}